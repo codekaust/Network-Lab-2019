{
 "cells": [
  {
   "cell_type": "code",
   "execution_count": 1,
   "metadata": {},
   "outputs": [],
   "source": [
    "import csv"
   ]
  },
  {
   "cell_type": "code",
   "execution_count": 2,
   "metadata": {},
   "outputs": [],
   "source": [
    "reader = csv.DictReader(open(\"Q1_out.csv\"))\n",
    "tout = 0\n",
    "tinc = 0\n",
    "out = 0\n",
    "inc = 0\n",
    "inflow = dict()\n",
    "outflow = dict()\n",
    "distdstIP = dict()"
   ]
  },
  {
   "cell_type": "code",
   "execution_count": 3,
   "metadata": {},
   "outputs": [],
   "source": [
    "for raw in reader:\n",
    "\tkey = raw[\"Source\"] + raw[\"Destination\"] + raw[\"Protocol\"] + raw[\"Source Port\"] + raw[\"Destination Port\"] \n",
    "\tdistdstIP[raw[\"Destination\"]] = 0\n",
    "\tif key not in inflow:\n",
    "\t\tinflow[key] = 900\n",
    "\t\toutflow[key] = 0\n",
    "\toutflow[key] = max(outflow[key], float(raw[\"Time\"]))\n",
    "\tinflow[key] = min(inflow[key], float(raw[\"Time\"]))\n",
    "\tif raw[\"Source\"] == \"10.42.0.56\":\n",
    "\t\tout += 1\n",
    "\t\ttout += int(raw[\"Length\"])\n",
    "\telse:\n",
    "\t\tinc += 1\n",
    "\t\ttinc += int(raw[\"Length\"])"
   ]
  },
  {
   "cell_type": "code",
   "execution_count": 4,
   "metadata": {},
   "outputs": [],
   "source": [
    "toflow = len(outflow) + len(inflow)\n",
    "todura = 0\n",
    "topack = out + inc\n",
    "for k in inflow:\n",
    "\ttodura += (outflow[k] - inflow[k])"
   ]
  },
  {
   "cell_type": "code",
   "execution_count": 5,
   "metadata": {},
   "outputs": [
    {
     "name": "stdout",
     "output_type": "stream",
     "text": [
      "96\n",
      "Average Packet Size : 781.5988486934929\n",
      "Average Flow Duration : 70.38942772349914\n",
      "Average Number of Packets Sent per Flow : 2.686613475177305\n",
      "Average Number of Packets Received per Flow : 5.167553191489362\n",
      "Average Number of Bytes Sent per Flow : 566.6068262411347\n",
      "Average Number of Bytes Received per Flow : 5572.20079787234\n",
      "Average Ratio of Incoming Packets to Outgoing Packets : 0.5199004975124378\n",
      "Average Ratio of Incoming Bytes to Outgoing Bytes : 0.10168456715656853\n",
      "Average Time Interval b/w Packets Sent : 0.000997195585278483\n",
      "Average Ratio of Connections to Number of Destination IPs : 0.5208333333333334\n"
     ]
    }
   ],
   "source": [
    "print(len(distdstIP))\n",
    "print(\"Average Packet Size : {}\".format((tinc + tout) / topack))\n",
    "print(\"Average Flow Duration : {}\".format((todura) / toflow))\n",
    "print(\"Average Number of Packets Sent per Flow : {}\".format((out) / toflow))\n",
    "print(\"Average Number of Packets Received per Flow : {}\".format((inc) / toflow))\n",
    "print(\"Average Number of Bytes Sent per Flow : {}\".format((tout) / toflow))\n",
    "print(\"Average Number of Bytes Received per Flow : {}\".format((tinc) / toflow))\n",
    "print(\"Average Ratio of Incoming Packets to Outgoing Packets : {}\".format((out) / inc))\n",
    "print(\"Average Ratio of Incoming Bytes to Outgoing Bytes : {}\".format((tout) / tinc))\n",
    "print(\"Average Time Interval b/w Packets Sent : {}\".format((1274.680214816) / tout))\n",
    "print(\"Average Ratio of Connections to Number of Destination IPs : {}\".format((50.0) / len(distdstIP)))"
   ]
  }
 ],
 "metadata": {
  "kernelspec": {
   "display_name": "Python 3",
   "language": "python",
   "name": "python3"
  },
  "language_info": {
   "codemirror_mode": {
    "name": "ipython",
    "version": 3
   },
   "file_extension": ".py",
   "mimetype": "text/x-python",
   "name": "python",
   "nbconvert_exporter": "python",
   "pygments_lexer": "ipython3",
   "version": "3.7.3"
  }
 },
 "nbformat": 4,
 "nbformat_minor": 2
}
